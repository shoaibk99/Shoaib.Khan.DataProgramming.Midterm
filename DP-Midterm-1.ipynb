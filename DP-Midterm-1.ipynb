{
 "cells": [
  {
   "cell_type": "code",
   "execution_count": 7,
   "id": "d5fd2190-e53c-437f-851f-d8ce33dc026c",
   "metadata": {
    "tags": []
   },
   "outputs": [],
   "source": [
    "import math\n",
    "\n",
    "class Point:\n",
    "    def __init__(self, x=0, y=0):\n",
    "        self.x = x\n",
    "        self.y = y\n",
    "\n",
    "class Segment:\n",
    "    def __init__(self, p1, p2):\n",
    "        self.p1 = p1\n",
    "        self.p2 = p2\n",
    "    \n",
    "    def length(self):\n",
    "        return math.sqrt((self.p2.x - self.p1.x)**2 + (self.p2.y - self.p1.y)**2)\n",
    "\n",
    "    def slope(self):\n",
    "        if self.p2.x - self.p1.x == 0:\n",
    "            return None  \n",
    "        return (self.p2.y - self.p1.y) / (self.p2.x - self.p1.x)"
   ]
  },
  {
   "cell_type": "code",
   "execution_count": 8,
   "id": "506e9232-65f1-460d-8b9d-ad5616441042",
   "metadata": {
    "tags": []
   },
   "outputs": [
    {
     "name": "stdout",
     "output_type": "stream",
     "text": [
      "5.0\n",
      "1.3333333333333333\n"
     ]
    }
   ],
   "source": [
    "p1 = Point(3, 4)\n",
    "p2 = Point()\n",
    "s = Segment(p1, p2)\n",
    "print(s.length())  \n",
    "print(s.slope())   "
   ]
  }
 ],
 "metadata": {
  "kernelspec": {
   "display_name": "Python 3 (ipykernel)",
   "language": "python",
   "name": "python3"
  },
  "language_info": {
   "codemirror_mode": {
    "name": "ipython",
    "version": 3
   },
   "file_extension": ".py",
   "mimetype": "text/x-python",
   "name": "python",
   "nbconvert_exporter": "python",
   "pygments_lexer": "ipython3",
   "version": "3.11.4"
  }
 },
 "nbformat": 4,
 "nbformat_minor": 5
}
