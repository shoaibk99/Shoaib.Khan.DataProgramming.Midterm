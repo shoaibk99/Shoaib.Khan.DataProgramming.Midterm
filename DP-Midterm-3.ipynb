{
 "cells": [
  {
   "cell_type": "code",
   "execution_count": 8,
   "id": "cf15e7e3-9019-4521-91ad-443a3188086c",
   "metadata": {
    "tags": []
   },
   "outputs": [],
   "source": [
    "def tough(indent, pattern_size):\n",
    "    if pattern_size == 0:\n",
    "        return\n",
    "    leading_spaces = \" \" * indent\n",
    "    stars = \"*\" * pattern_size\n",
    "    print(leading_spaces + stars)\n",
    "    tough(indent, pattern_size - 1)\n",
    "    print(leading_spaces + stars)"
   ]
  },
  {
   "cell_type": "code",
   "execution_count": 14,
   "id": "d2bd818e-7a20-4f9a-86de-119320f71462",
   "metadata": {
    "tags": []
   },
   "outputs": [
    {
     "name": "stdout",
     "output_type": "stream",
     "text": [
      "=====================\n",
      "*\n",
      "=====================\n",
      "**\n",
      " *\n",
      "**\n",
      "=====================\n",
      "****\n",
      " ***\n",
      "  **\n",
      "   *\n",
      "  **\n",
      " ***\n",
      "****\n"
     ]
    }
   ],
   "source": [
    "tough(0,0)\n",
    "print(\"=====================\")\n",
    "tough(0,1)\n",
    "print(\"=====================\")\n",
    "tough(0,2)\n",
    "print(\"=====================\")\n",
    "tough(0,4)"
   ]
  }
 ],
 "metadata": {
  "kernelspec": {
   "display_name": "Python 3 (ipykernel)",
   "language": "python",
   "name": "python3"
  },
  "language_info": {
   "codemirror_mode": {
    "name": "ipython",
    "version": 3
   },
   "file_extension": ".py",
   "mimetype": "text/x-python",
   "name": "python",
   "nbconvert_exporter": "python",
   "pygments_lexer": "ipython3",
   "version": "3.11.4"
  }
 },
 "nbformat": 4,
 "nbformat_minor": 5
}
